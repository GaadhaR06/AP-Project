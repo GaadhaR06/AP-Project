{
 "cells": [
  {
   "cell_type": "code",
   "execution_count": 82,
   "id": "37bf4e06-fbb1-4003-b865-d9d213d3e8b2",
   "metadata": {},
   "outputs": [],
   "source": [
    " #Import necessary libraries\n",
    "import pandas as pd\n",
    "import numpy as np\n",
    "from sklearn.model_selection import train_test_split\n",
    "from sklearn.preprocessing import OneHotEncoder, StandardScaler\n",
    "from sklearn.feature_selection import chi2, SelectKBest\n",
    "from sklearn.ensemble import RandomForestClassifier\n",
    "from scipy.stats import chi2_contingency"
   ]
  },
  {
   "cell_type": "code",
   "execution_count": 83,
   "id": "8bd97f03-0a15-4a02-a012-2bd9e799267f",
   "metadata": {},
   "outputs": [],
   "source": [
    "# Load the dataset with explicit encoding\n",
    "df = pd.read_csv('data.csv', encoding='latin-1') # or 'ISO-8859-1', 'cp1252'"
   ]
  },
  {
   "cell_type": "code",
   "execution_count": 84,
   "id": "6d44a054-3f6f-420d-aec2-5eeb77d623c9",
   "metadata": {},
   "outputs": [],
   "source": [
    "def categorize_nkill(n):\n",
    "    if n == 0:\n",
    "        return 0\n",
    "    elif n in [1, 2]:\n",
    "        return 1\n",
    "    else:\n",
    "        return 2\n",
    "\n",
    "df['nkill_category'] = df['nkill'].apply(categorize_nkill)"
   ]
  },
  {
   "cell_type": "code",
   "execution_count": 85,
   "id": "4f21a9b8-de31-4925-a59d-440654e17bfd",
   "metadata": {},
   "outputs": [],
   "source": [
    "# Drop the original 'nkill' column\n",
    "df.drop(columns=['nkill'], inplace=True)\n",
    "\n",
    "# Identify categorical variables\n",
    "categorical_cols = df.select_dtypes(include=['object']).columns.tolist()\n",
    "\n",
    "# One-Hot Encoding for categorical variables\n",
    "encoder = OneHotEncoder(drop='first', sparse_output=False, handle_unknown='ignore') # Changed 'sparse' to 'sparse_output'\n",
    "encoded_features = pd.DataFrame(encoder.fit_transform(df[categorical_cols]))\n",
    "encoded_features.columns = encoder.get_feature_names_out(categorical_cols)"
   ]
  },
  {
   "cell_type": "code",
   "execution_count": 86,
   "id": "75bf82c4-b419-4f42-8a72-0bf8fdda739b",
   "metadata": {},
   "outputs": [],
   "source": [
    "# Drop original categorical columns and merge one-hot encoded data\n",
    "df = df.drop(columns=categorical_cols).reset_index(drop=True)\n",
    "df = pd.concat([df, encoded_features], axis=1)\n",
    "\n",
    "# Fill missing values with median (for numerical) or mode (for categorical)\n",
    "df.fillna(df.median(numeric_only=True), inplace=True)"
   ]
  },
  {
   "cell_type": "code",
   "execution_count": 87,
   "id": "53d22f52-3a0b-4c7e-b18b-02f9a8032732",
   "metadata": {},
   "outputs": [],
   "source": [
    "# Define Features (X) and Target (y)\n",
    "X = df.drop(columns=['nkill_category'])  # Features\n",
    "y = df['nkill_category']  # Target variable\n",
    "\n",
    "# Split into training & test set"
   ]
  },
  {
   "cell_type": "code",
   "execution_count": 88,
   "id": "0f527cfa-bfaa-4320-9326-3955a0f7c56d",
   "metadata": {},
   "outputs": [
    {
     "name": "stdout",
     "output_type": "stream",
     "text": [
      "Columns with negative values: ['nperps', 'claimed', 'compclaim', 'INT_LOG', 'INT_IDEO', 'INT_MISC', 'INT_ANY']\n"
     ]
    }
   ],
   "source": [
    "negative_columns = X.columns[(X < 0).any()].tolist()\n",
    "print(\"Columns with negative values:\", negative_columns)\n",
    "X = X.drop(['nperps', 'claimed', 'compclaim', 'INT_LOG', 'INT_IDEO', 'INT_MISC', 'INT_ANY'], axis = 1)\n"
   ]
  },
  {
   "cell_type": "code",
   "execution_count": 89,
   "id": "beac9962-f833-4b3b-9a03-ca6bb82cde8c",
   "metadata": {},
   "outputs": [
    {
     "name": "stdout",
     "output_type": "stream",
     "text": [
      "Columns with negative values: []\n"
     ]
    }
   ],
   "source": [
    "negative_columns = X.columns[(X < 0).any()].tolist()\n",
    "print(\"Columns with negative values:\", negative_columns)"
   ]
  },
  {
   "cell_type": "code",
   "execution_count": 90,
   "id": "8386318f-e8e3-4643-bca5-fa42de6d4be9",
   "metadata": {},
   "outputs": [],
   "source": [
    "\n",
    "X_train, X_test, y_train, y_test = train_test_split(X, y, test_size=0.2, random_state=42, stratify=y)"
   ]
  },
  {
   "cell_type": "code",
   "execution_count": 97,
   "id": "a6f96aad-e34f-4964-9005-d689c6146348",
   "metadata": {},
   "outputs": [
    {
     "name": "stdout",
     "output_type": "stream",
     "text": [
      "\n",
      "Top Features Based on Random Forest & Chi-Square:\n",
      "\n",
      "                        Feature  Chi-Square Score  Random Forest Importance\n",
      "0                    Unnamed: 0      3.097524e+06                  0.027760\n",
      "13                  attacktype1      6.533124e+02                  0.024925\n",
      "1                       eventid      7.357909e+09                  0.024030\n",
      "2                         iyear      7.360244e+01                  0.022231\n",
      "27                 weapsubtype1      4.607537e+03                  0.019332\n",
      "6                      latitude      1.261844e+02                  0.018324\n",
      "7                     longitude      1.145092e+02                  0.017558\n",
      "4                          iday      1.457449e+01                  0.015156\n",
      "3                        imonth      2.421297e+00                  0.013609\n",
      "17                 targsubtype1      3.751510e+03                  0.013216\n",
      "12                      success      1.830832e+02                  0.013006\n",
      "31926    weaptype1_txt_Firearms      1.103228e+03                  0.011213\n",
      "31924  weaptype1_txt_Explosives      7.256225e+02                  0.010828\n",
      "26                    weaptype1      4.640532e+01                  0.010411\n",
      "16                    targtype1      3.863130e+01                  0.010388\n"
     ]
    }
   ],
   "source": [
    "# Chi-Square Feature Selection\n",
    "chi2_selector = SelectKBest(chi2, k='all')  # Select all features for ranking\n",
    "chi2_selector.fit(X_train, y_train)\n",
    "chi2_scores = chi2_selector.scores_\n",
    "\n",
    "# Random Forest Feature Importance\n",
    "rf_model = RandomForestClassifier(n_estimators=100, random_state=42)\n",
    "rf_model.fit(X_train, y_train)\n",
    "rf_importances = rf_model.feature_importances_\n",
    "\n",
    "# Combine Feature Importance Scores\n",
    "feature_importance_df = pd.DataFrame({\n",
    "    'Feature': X_train.columns,\n",
    "    'Chi-Square Score': chi2_scores,\n",
    "    'Random Forest Importance': rf_importances\n",
    "})\n",
    "\n",
    "# Sort by importance\n",
    "feature_importance_df = feature_importance_df.sort_values(by='Random Forest Importance', ascending=False)\n",
    "\n",
    "# Display results\n",
    "print(\"\\nTop Features Based on Random Forest & Chi-Square:\\n\")\n",
    "print(feature_importance_df.head(15))  # Show top 15 important features\n",
    "\n"
   ]
  },
  {
   "cell_type": "code",
   "execution_count": 99,
   "id": "21581f7e-ffba-4a99-b688-8cc96b24eb07",
   "metadata": {},
   "outputs": [
    {
     "name": "stdout",
     "output_type": "stream",
     "text": [
      "Top 30 Features Based on Random Forest Importance:\n",
      "                                                Feature  Chi-Square Score  \\\n",
      "0                                           Unnamed: 0      3.097524e+06   \n",
      "13                                         attacktype1      6.533124e+02   \n",
      "1                                              eventid      7.357909e+09   \n",
      "2                                                iyear      7.360244e+01   \n",
      "27                                        weapsubtype1      4.607537e+03   \n",
      "...                                                ...               ...   \n",
      "26352                            target1_Tehsil Office      7.903278e-01   \n",
      "26353     target1_Tehsil Secretary: Abdul Ahad Rehmani               NaN   \n",
      "26355  target1_Telecommunication Engineer B.K. Ganjoor               NaN   \n",
      "26358                         target1_Telegraph Office               NaN   \n",
      "26359                       target1_Telephone Exchange               NaN   \n",
      "\n",
      "       Random Forest Importance  \n",
      "0                      0.027760  \n",
      "13                     0.024925  \n",
      "1                      0.024030  \n",
      "2                      0.022231  \n",
      "27                     0.019332  \n",
      "...                         ...  \n",
      "26352                  0.000000  \n",
      "26353                  0.000000  \n",
      "26355                  0.000000  \n",
      "26358                  0.000000  \n",
      "26359                  0.000000  \n",
      "\n",
      "[50000 rows x 3 columns]\n"
     ]
    }
   ],
   "source": [
    "# Get the top 30 features based on Random Forest importance\n",
    "top_30_features = feature_importance_df.nlargest(50000, 'Random Forest Importance')\n",
    "\n",
    "# Display the top 30 features\n",
    "print(\"Top 30 Features Based on Random Forest Importance:\\n\", top_30_features)\n"
   ]
  },
  {
   "cell_type": "code",
   "execution_count": 101,
   "id": "665cf949-eeed-4a6f-a5db-96afc1bb57f4",
   "metadata": {},
   "outputs": [
    {
     "name": "stdout",
     "output_type": "stream",
     "text": [
      "Model Accuracy: 0.7735\n",
      "Classification Report:\n",
      "               precision    recall  f1-score   support\n",
      "\n",
      "           0       0.83      0.89      0.86      1556\n",
      "           1       0.70      0.66      0.68       790\n",
      "           2       0.68      0.55      0.61       440\n",
      "\n",
      "    accuracy                           0.77      2786\n",
      "   macro avg       0.73      0.70      0.72      2786\n",
      "weighted avg       0.77      0.77      0.77      2786\n",
      "\n"
     ]
    }
   ],
   "source": [
    "from sklearn.ensemble import RandomForestClassifier\n",
    "from sklearn.model_selection import train_test_split\n",
    "from sklearn.metrics import accuracy_score, classification_report\n",
    "\n",
    "# Select the top 20 features\n",
    "selected_features = top_30_features['Feature'].tolist()\n",
    "\n",
    "# Define new feature set (X) using top 20 features\n",
    "X_top30 = X[selected_features]\n",
    "y = df['nkill_category']  # Target variable\n",
    "\n",
    "# Split into training & testing sets\n",
    "X_train, X_test, y_train, y_test = train_test_split(X_top20, y, test_size=0.2, random_state=42, stratify=y)\n",
    "\n",
    "# Train Random Forest Classifier\n",
    "rf_model = RandomForestClassifier(n_estimators=100, random_state=42)\n",
    "rf_model.fit(X_train, y_train)\n",
    "\n",
    "# Predictions\n",
    "y_pred = rf_model.predict(X_test)\n",
    "\n",
    "# Evaluate Model Performance\n",
    "accuracy = accuracy_score(y_test, y_pred)\n",
    "print(f\"Model Accuracy: {accuracy:.4f}\")\n",
    "\n",
    "# Classification Report\n",
    "print(\"Classification Report:\\n\", classification_report(y_test, y_pred))\n"
   ]
  },
  {
   "cell_type": "code",
   "execution_count": 119,
   "id": "f14fefe8-3eb5-483c-921c-42683a0430a4",
   "metadata": {},
   "outputs": [],
   "source": [
    "# pip install streamlit streamlit_jupyter\n"
   ]
  },
  {
   "cell_type": "code",
   "execution_count": 115,
   "id": "9e26f236-495b-4b56-aa08-5234ce918f22",
   "metadata": {},
   "outputs": [],
   "source": [
    "# from streamlit_jupyter import StreamlitPatcher\n",
    "# import streamlit as st\n",
    "\n",
    "# # Patch Streamlit for Jupyter\n",
    "# StreamlitPatcher().jupyter()\n",
    "\n",
    "# st.title(\"Feature Selection & Random Forest Classification\")\n",
    "# st.write(\"This is a Streamlit app running inside Jupyter Notebook.\")\n",
    "\n",
    "# # Display Streamlit components in Jupyter\n",
    "# st.write()\n"
   ]
  },
  {
   "cell_type": "code",
   "execution_count": 117,
   "id": "fbb9c9f9-ab8b-40f9-b999-817222ec7d59",
   "metadata": {},
   "outputs": [],
   "source": [
    "# import streamlit_jupyter\n",
    "# print(dir(streamlit_jupyter))\n"
   ]
  },
  {
   "cell_type": "code",
   "execution_count": null,
   "id": "04b3812a-80fb-436d-82e3-4b7dcffbc704",
   "metadata": {},
   "outputs": [],
   "source": []
  }
 ],
 "metadata": {
  "kernelspec": {
   "display_name": "Python [conda env:base] *",
   "language": "python",
   "name": "conda-base-py"
  },
  "language_info": {
   "codemirror_mode": {
    "name": "ipython",
    "version": 3
   },
   "file_extension": ".py",
   "mimetype": "text/x-python",
   "name": "python",
   "nbconvert_exporter": "python",
   "pygments_lexer": "ipython3",
   "version": "3.12.3"
  }
 },
 "nbformat": 4,
 "nbformat_minor": 5
}
