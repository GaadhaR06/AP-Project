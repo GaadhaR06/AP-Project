{
 "cells": [
  {
   "cell_type": "code",
   "execution_count": 10,
   "id": "182eef61-b57f-412d-97a5-51f1de4e1b4c",
   "metadata": {},
   "outputs": [
    {
     "name": "stdout",
     "output_type": "stream",
     "text": [
      "Model and scaler saved successfully.\n"
     ]
    }
   ],
   "source": [
    "import pandas as pd\n",
    "from sklearn.model_selection import train_test_split\n",
    "from sklearn.preprocessing import StandardScaler\n",
    "from sklearn.linear_model import LogisticRegression\n",
    "import joblib\n",
    "\n",
    "# Load your dataset (example: from a CSV file)\n",
    "terr_lr_new = pd.read_excel('TerrLR.xlsx')  # Replace with your actual dataset\n",
    "\n",
    "# Preprocessing\n",
    "y_lr = terr_lr_new['success']  # Target variable\n",
    "X_lr = terr_lr_new.drop(['success'], axis=1)  # Features\n",
    "\n",
    "# One-hot encode categorical columns\n",
    "X_lr_1 = pd.get_dummies(X_lr, columns=['attacktype1_txt', 'targtype1_txt', 'gname', 'weaptype1_txt'], dtype=int)\n",
    "X_lr_1.columns = X_lr_1.columns.str.replace('[^A-Za-z0-9_()]+', '_', regex=True)\n",
    "\n",
    "# Split the data into training and testing sets\n",
    "X_lr_train, X_lr_test, y_lr_train, y_lr_test = train_test_split(X_lr_1, y_lr, test_size=0.2, random_state=10)\n",
    "\n",
    "# Scale the data\n",
    "scaler = StandardScaler()\n",
    "X_lr_train_scaled = scaler.fit_transform(X_lr_train)\n",
    "X_lr_test_scaled = scaler.transform(X_lr_test)\n",
    "\n",
    "# Train the Logistic Regression model\n",
    "logR = LogisticRegression(random_state=10)\n",
    "logR.fit(X_lr_train_scaled, y_lr_train)\n",
    "\n",
    "# Save the trained model and scaler\n",
    "joblib.dump(logR, 'logistic_regression_model.pkl')\n",
    "joblib.dump(scaler, 'scaler.pkl')\n",
    "joblib.dump(X_lr_train.columns.tolist(), 'feature_names.pkl')\n",
    "\n",
    "print(\"Model and scaler saved successfully.\")\n"
   ]
  },
  {
   "cell_type": "code",
   "execution_count": null,
   "id": "c68fc767-3a48-4ddf-bc23-21ffd0378d58",
   "metadata": {},
   "outputs": [],
   "source": []
  },
  {
   "cell_type": "code",
   "execution_count": null,
   "id": "f8dd40fb-018b-4916-b52a-1ff92c5ce0f8",
   "metadata": {},
   "outputs": [],
   "source": []
  }
 ],
 "metadata": {
  "kernelspec": {
   "display_name": "Python [conda env:base] *",
   "language": "python",
   "name": "conda-base-py"
  },
  "language_info": {
   "codemirror_mode": {
    "name": "ipython",
    "version": 3
   },
   "file_extension": ".py",
   "mimetype": "text/x-python",
   "name": "python",
   "nbconvert_exporter": "python",
   "pygments_lexer": "ipython3",
   "version": "3.12.3"
  }
 },
 "nbformat": 4,
 "nbformat_minor": 5
}
