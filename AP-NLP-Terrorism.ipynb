{
 "cells": [
  {
   "cell_type": "code",
   "execution_count": 1,
   "id": "309f3e9c-9a3e-4fdb-97e5-8e76edfaa3f9",
   "metadata": {},
   "outputs": [],
   "source": [
    "##This is the NLP part of Analytics Project\n",
    "#First "
   ]
  },
  {
   "cell_type": "code",
   "execution_count": 1,
   "id": "fee36cfe-3841-4800-adcd-ada32fdba209",
   "metadata": {},
   "outputs": [],
   "source": [
    "#pip install googlesearch-python "
   ]
  },
  {
   "cell_type": "code",
   "execution_count": 3,
   "id": "088620b6-a7e1-4853-83a7-8cd8dfcd3b74",
   "metadata": {},
   "outputs": [],
   "source": [
    "#pip install transformers\n"
   ]
  },
  {
   "cell_type": "code",
   "execution_count": 5,
   "id": "f7e5bcbf-4314-42be-aab3-929af894169f",
   "metadata": {},
   "outputs": [],
   "source": [
    "#pip install tf-keras"
   ]
  },
  {
   "cell_type": "code",
   "execution_count": 1,
   "id": "d091f3ab-78db-4d94-a4ea-7e5774453b93",
   "metadata": {},
   "outputs": [
    {
     "name": "stdout",
     "output_type": "stream",
     "text": [
      "Requirement already satisfied: openpyxl in c:\\users\\gadha\\anaconda3\\envs\\env_nlp\\lib\\site-packages (3.1.5)\n",
      "Requirement already satisfied: et-xmlfile in c:\\users\\gadha\\anaconda3\\envs\\env_nlp\\lib\\site-packages (from openpyxl) (2.0.0)\n",
      "Note: you may need to restart the kernel to use updated packages.\n"
     ]
    }
   ],
   "source": [
    "pip install openpyxl"
   ]
  },
  {
   "cell_type": "code",
   "execution_count": 13,
   "id": "d72339b5-4c03-4c74-b291-e27a49cb0ccd",
   "metadata": {},
   "outputs": [
    {
     "name": "stderr",
     "output_type": "stream",
     "text": [
      "Some weights of the PyTorch model were not used when initializing the TF 2.0 model TFBartForSequenceClassification: ['model.decoder.version', 'model.encoder.version']\n",
      "- This IS expected if you are initializing TFBartForSequenceClassification from a PyTorch model trained on another task or with another architecture (e.g. initializing a TFBertForSequenceClassification model from a BertForPreTraining model).\n",
      "- This IS NOT expected if you are initializing TFBartForSequenceClassification from a PyTorch model that you expect to be exactly identical (e.g. initializing a TFBertForSequenceClassification model from a BertForSequenceClassification model).\n",
      "All the weights of TFBartForSequenceClassification were initialized from the PyTorch model.\n",
      "If your task is similar to the task the model of the checkpoint was trained on, you can already use TFBartForSequenceClassification for predictions without further training.\n",
      "Device set to use 0\n"
     ]
    },
    {
     "name": "stdout",
     "output_type": "stream",
     "text": [
      "\n",
      " Shiv Sena (1966–2022) (Śiva Sēnā; lit. 'Army of Shivaji'; abbr. SS) was a right-wing Marathi regionalist Hindutva-based political party in India founded in 1966 by Bal Thackeray, who was later succeeded by Uddhav Thackeray.[16][17] The party  is split into two parties: the Uddhav Thackeray-led Shiv Sena (Uddhav Balasaheb Thackeray) which has a new symbol of Mashaal (Torch) and Eknath Shinde-led Shiv Sena (2022–present) which has gotten hold of the original party name and the \"bow and arrow\" symbol.  \n",
      " Initially apolitical, the organisation was patronised by the then Chief Minister Vasantrao Naik who used it for curbing trade unions and maintain stranglehold of the Congress.[18][19][20] The organisation at the same time carried out pro-Marathi nativist movement in Mumbai in which it agitated for preferential treatment for the Marathi people over migrants from other parts of India.[21]\n",
      " Although Shiv Sena's primary base always remained in Maharashtra, it tried to expand to a pan-Indian base. In the 1970s, it gradually moved from advocating a pro-Marathi ideology to supporting a broader Hindu nationalist agenda,[22] and aligned itself with the Bharatiya Janata Party (BJP).\n",
      "The group is: Religious Terrorist Group\n"
     ]
    }
   ],
   "source": [
    "from googlesearch import search\n",
    "import requests\n",
    "from bs4 import BeautifulSoup\n",
    "import spacy\n",
    "from transformers import pipeline \n",
    "import pandas as pd\n",
    "\n",
    "# names_sheet=pd.read_excel('GroupName_terrorists.xlsx')\n",
    "# names_sheet.dropna()\n",
    "# df=pd.DataFrame(names_sheet)\n",
    "\n",
    "########################################################################################\n",
    "# Initialize the zero-shot classification pipeline\n",
    "classifier = pipeline(\"zero-shot-classification\", model=\"facebook/bart-large-mnli\")\n",
    "\n",
    "nlp = spacy.load('en_core_web_sm')\n",
    "\n",
    "def get_first_google_link(gname):\n",
    "    for result in search(gname, num_results=10):\n",
    "        if 'wikipedia.org' in result:\n",
    "            return result\n",
    "        elif 'satp.org' in result:\n",
    "            return result\n",
    "\n",
    "    # print(\"got first google link\")\n",
    "    return None\n",
    "\n",
    "\n",
    "##############################################################################################\n",
    "def get_textual_content(group_name):\n",
    "    # Get the first two sentences from the Wikipedia page\n",
    "    # print(\"Got group name\")\n",
    "    first_link = get_first_google_link(group_name)\n",
    "    if first_link:\n",
    "        url = first_link\n",
    "        response = requests.get(url)\n",
    "        \n",
    "        if response.status_code == 200:\n",
    "            soup = BeautifulSoup(response.content, 'html.parser')\n",
    "            paragraphs = soup.find_all('p') \n",
    "            \n",
    "            # Extract text from the paragraphs\n",
    "            text = ' '.join([para.get_text() for para in paragraphs]) #getting full content of wikipedia\n",
    "            \n",
    "            # Split the text into sentences\n",
    "            sentences = text.split('. ')\n",
    "            \n",
    "            # Return the first four sentences\n",
    "            op = '. '.join(sentences[:4]) + '.' if len(sentences) > 1 else None #if len(text)=1 it means text=name of grp\n",
    "            print(op)\n",
    "            return op\n",
    "        else:\n",
    "            return None\n",
    "    else:\n",
    "        return None\n",
    "##############################################################################################\n",
    "\n",
    "\n",
    "def classify_group(text):\n",
    "    \n",
    "    classes_labels = [\"Religious Terrorist Group\", \"Separatist Terrorist\", \"Left-Wing Terrorist Group\", \"Right-Wing Terrorist Group\", \"Non terrorist Group\"]\n",
    "    result = classifier(text, classes_labels)\n",
    "    return (result['labels'][0])\n",
    "\n",
    "##############################################################################################\n",
    "\n",
    "# classified_list=[]\n",
    "# group_names = df['GNAME'].to_list()  \n",
    "\n",
    "# for group in group_names:\n",
    "#     content = get_textual_content(group)\n",
    "#     if content!= None:\n",
    "#         classified_list.append(classify_group(content))\n",
    "#     else: \n",
    "#         classified_list.append('No information on Group')\n",
    "\n",
    "group = 'Shiv Sena'\n",
    "content = get_textual_content(group)\n",
    "classgrp = classify_group(content)\n",
    "print(\"The group is:\", classgrp)\n",
    "\n",
    "# length=len(df['GNAME'])-len(classified_list)\n",
    "\n",
    "# for i in range(length):\n",
    "#     classified_list.append('dummy')\n",
    "\n",
    "# df['Classification']=classified_list\n",
    "# print(df[['GNAME', 'Classification']])\n",
    "\n",
    "# df.to_excel('output_file.xlsx', index=False)"
   ]
  },
  {
   "cell_type": "code",
   "execution_count": null,
   "id": "63f4ef1f-6208-437d-bc19-926f317e486c",
   "metadata": {},
   "outputs": [],
   "source": []
  }
 ],
 "metadata": {
  "kernelspec": {
   "display_name": "Python [conda env:ENV_NLP]",
   "language": "python",
   "name": "conda-env-ENV_NLP-py"
  },
  "language_info": {
   "codemirror_mode": {
    "name": "ipython",
    "version": 3
   },
   "file_extension": ".py",
   "mimetype": "text/x-python",
   "name": "python",
   "nbconvert_exporter": "python",
   "pygments_lexer": "ipython3",
   "version": "3.10.16"
  }
 },
 "nbformat": 4,
 "nbformat_minor": 5
}
