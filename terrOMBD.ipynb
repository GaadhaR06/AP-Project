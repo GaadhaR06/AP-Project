{
 "cells": [
  {
   "cell_type": "code",
   "execution_count": 53,
   "id": "fec2e630-55e7-41b2-b0f5-0daddd61ca4c",
   "metadata": {},
   "outputs": [],
   "source": [
    "import pandas as pd\n",
    "import numpy as np\n",
    "import seaborn as sns\n",
    "import matplotlib.pyplot as plt\n",
    "\n",
    "# Reading from excel file\n",
    "terr_ombd = pd.read_excel('TerrDB1.xlsx')\n",
    "\n",
    "# Replacing the states having the same names to the common name\n",
    "terr_ombd['provstate'] = terr_ombd['provstate'].replace('Andhra pradesh', 'Andhra Pradesh')\n",
    "terr_ombd['provstate'] = terr_ombd['provstate'].replace('Orissa','Odisha')\n",
    "terr_ombd=terr_ombd[terr_ombd['provstate'] != 'Unknown']\n",
    "\n",
    "# Choosing the columns we need specifically\n",
    "terr_ombd=terr_ombd[['provstate','city','latitude','longitude','nkill','nwound']]\n",
    "\n",
    "# Combining the necessary columns and filling the empty cells\n",
    "terr_ombd['casualities']=terr_ombd['nkill']+terr_ombd['nwound']\n",
    "terr_ombd.fillna(0,inplace=True)\n",
    "\n",
    "# dropping the old columns which were combined\n",
    "terr_ombd.drop(['nkill','nwound'],axis=1,inplace=True)\n",
    "\n",
    "# grouping\n",
    "result = terr_ombd.groupby([\"provstate\", \"city\", \"latitude\", \"longitude\"], as_index=False)[\"casualities\"].sum()\n",
    "\n",
    "# calculating the weighted average to identify potential areas\n",
    "result = terr_ombd.groupby(\"provstate\").apply(lambda x: pd.Series({\n",
    "    \"OutputLatitude\": (x[\"latitude\"] * x[\"casualities\"]).sum() / x[\"casualities\"].sum(),\n",
    "    \"OutputLongitude\": (x[\"longitude\"] * x[\"casualities\"]).sum() / x[\"casualities\"].sum(),\n",
    "      \"casualities\": x[\"casualities\"].sum()\n",
    "})).reset_index()\n",
    "\n",
    "# print(result)\n",
    "\n",
    "# Map using folium and display the map\n",
    "import folium\n",
    "m = folium.Map(location=[20.5937, 78.9629], zoom_start=5)\n",
    "# Loop through each row in the DataFrame and add a circle marker\n",
    "for _, row in result.iterrows():\n",
    "    folium.CircleMarker(\n",
    "        location=[row['OutputLatitude'], row['OutputLongitude']],\n",
    "        radius=row['casualities'] / 100,  # Scale radius for better visualization\n",
    "        color='blue',\n",
    "        fill=True,\n",
    "        fill_color='blue',\n",
    "        fill_opacity=0.6,\n",
    "        popup=f\"{row['provstate']} - Casualities: {row['casualities']}\"\n",
    "    ).add_to(m)\n",
    "\n",
    "# Display the map"
   ]
  },
  {
   "cell_type": "code",
   "execution_count": null,
   "id": "b7b425a6-d4c2-4a28-a6bd-d0049319f7d2",
   "metadata": {},
   "outputs": [],
   "source": []
  }
 ],
 "metadata": {
  "kernelspec": {
   "display_name": "Python [conda env:base] *",
   "language": "python",
   "name": "conda-base-py"
  },
  "language_info": {
   "codemirror_mode": {
    "name": "ipython",
    "version": 3
   },
   "file_extension": ".py",
   "mimetype": "text/x-python",
   "name": "python",
   "nbconvert_exporter": "python",
   "pygments_lexer": "ipython3",
   "version": "3.12.3"
  }
 },
 "nbformat": 4,
 "nbformat_minor": 5
}
